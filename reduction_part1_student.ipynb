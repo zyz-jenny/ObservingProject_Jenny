{
 "cells": [
  {
   "cell_type": "markdown",
   "metadata": {},
   "source": [
    "<h2>OBSERVATIONAL ASTROPHYSICS – FALL 2021 Reduction Exercise: Part 1</h2>\n",
    "\n",
    "The goal of our reduction will be to complete the following steps:\n",
    "1. make a master bias frame by combining all of our individual bias frames;\n",
    "2. subtract this frame from all of the individual dark, science, and twilight flat frames;\n",
    "3. combine your bias subtracted dark frames;\n",
    "4. subtract the dark frame from each of your science and flat field images;\n",
    "5. We may trim the images to focus on the centers where the flatfielding is good.\n",
    "6. make a combined flatfield image in each band;\n",
    "7. flatfield the individual flatfield images (as a check) and the science images;\n",
    "8. shift and align all of your science images;\n",
    "9. combine your science images to obtain a final combined science image.\n",
    "10. establish the orientation of your images and where exactly they are pointing.\n",
    "\n",
    "Once this is done we will move onto the next phase, where we measure the brightness of our objects.\n",
    "\n",
    "In this exercise you will go through and start by viewing all of your dark, bias, and science frames to check for any issues.  You will also access the logs and you will each make your own lists of files of each type.  We will do this for the twilight flats at a later point as they were taken by Dr. Finn after we observed and I need to double check which ones we can use.\n",
    "\n",
    "<h4> Copy over the images from a public shared drive to <i>your</i> departmental shared disk space </h4>\n",
    "\n",
    "The department has created space for each of you on its network drive space.  You will store all of your data there so that you can work from any computer.\n",
    "\n",
    "Text in quotes <> indicates a placeholder value that you will need to fill in.  For example \\<KUID> should be your KU ID number.  \n",
    "\n",
    "The raw data are all stored in the ~/RFSLAB/USER_DPT/_PUBLIC/ASTR596/Fall_2021/Data/2021-10-19/Raw/\n",
    "\n",
    "Your personal network drive space is at ~/RFSLAB/USER_DPT/\\<KUID>\n",
    "\n",
    "To copy over the data from the public directory to your directory go to your network directory in the command line and:\n",
    "\n",
    "1. make a directory tree called \"ASTR596/Data/2021-10-19/Raw\" and cd into that directory.  Note that you will need to make mutliple directories one after the other to make this tree.\n",
    "\n",
    "2. from within that directory type (without the quotes)\n",
    "\n",
    "<i>rsync -u -a -v ~/RFSLAB/USER_DPT/_PUBLIC/ASTR596/Fall_2021/Data/2021-10-19/Raw/ .</i>\n",
    "\n",
    "where there is a space before the final \".\"\n",
    "\n",
    "3. Make directories in your personal space called \n",
    "\n",
    "~/RFSLAB/USER_DPT/\\<KUID>/ASTR596/Data/2021-10-19/Reduced and \n",
    "\n",
    "~/RFSLAB/USER_DPT/\\<KUID>/ASTR596/Data/2021-10-19/Files \n",
    "\n",
    "4. You will need to make lists that contain the different kinds of images.  Open the log file on google docs for 2021-10-19, which is the one night on which we were able to get data. https://docs.google.com/spreadsheets/d/1MPkdAEUSHp2LNUNKNUv27fghJJIgEMv7SAFZ_clElAI/edit#gid=2042569792  "
   ]
  },
  {
   "cell_type": "code",
   "execution_count": 1,
   "metadata": {},
   "outputs": [],
   "source": [
    "import numpy as np\n",
    "from astropy import units as u\n",
    "from astropy.nddata import CCDData\n",
    "import ccdproc\n",
    "from matplotlib import pyplot as plt\n",
    "from ccdproc import Combiner\n",
    "from astropy.io import ascii"
   ]
  },
  {
   "cell_type": "markdown",
   "metadata": {},
   "source": [
    "5. Do this for the bias list and the darks that have 180s exposures, as that was the same as for our science frames.\n",
    "\n",
    "We will also need to do this for the twilight flats in each filter using a list called \"flatlist_< filtname>\", where filename shoudl be *g* or *r*.  *We will come back to this later once we find out from Dr. Finn which twilight flats were actually good.*\n",
    "\n"
   ]
  },
  {
   "cell_type": "code",
   "execution_count": 2,
   "metadata": {},
   "outputs": [],
   "source": [
    "# this is a list of all the bias image names \n",
    "# you will need to complete my list\n",
    "#********************\n",
    "biaslist = np.array([\"b033.fit\",\"b034.fit\",\"b035.fit\",\"b036.fit\",\"b037.fit\",\"b038.fit\",\"b039.fit\",\"b040.fit\",\n",
    "                    \"b041.fit\",\"b042.fit\",\"b043.fit\",\"b044.fit\",\"b045.fit\",\"b046.fit\",\"b047.fit\",\"b048.fit\",\n",
    "                    \"b049.fit\",\"b050.fit\",\"b051.fit\",\"b052.fit\",\"b053.fit\"])"
   ]
  },
  {
   "cell_type": "code",
   "execution_count": 3,
   "metadata": {},
   "outputs": [],
   "source": [
    "#this is a list of all the dark images that were of the same exposure as our science images\n",
    "# you will need to complete my list\n",
    "#*************\n",
    "darklist_180s = np.array([\"d001.fit\",\"d002.fit\",\"d003.fit\",\"d004.fit\",\"d005.fit\",\"d006.fit\",\"d007.fit\",\n",
    "                         \"d008.fit\",\"d009.fit\",\"d010.fit\",\"d011.fit\"])\n"
   ]
  },
  {
   "cell_type": "code",
   "execution_count": 4,
   "metadata": {},
   "outputs": [],
   "source": [
    "#this is a list of all the flatfield images.  There may need to be more than one list.\n",
    "####We will have to fill this in later once we clarify which flatfield files actually worked well.  \n",
    "####You can ignore it for now\n",
    "#*************\n",
    "flatlist_g = np.array([\"skyflat_g.001.fit\",\"skyflat_g.002.fit\",\"skyflat_g.003.fit\",\"skyflat_g.004.fit\",\n",
    "                       \"skyflat_g.005.fit\",\"skyflat_g.006.fit\",\"skyflat_g.007.fit\"])\n",
    "flatlist_r = np.array([\"skyflat_r.001.fit\",\"skyflat_r.002.fit\",\"skyflat_r.003.fit\",\"skyflat_r.004.fit\",\n",
    "                       \"skyflat_r.005.fit\",\"skyflat_r.006.fit\",\"skyflat_r.007.fit\",\"skyflat_r.008.fit\",\n",
    "                       \"skyflat_r.009.fit\",\"skyflat_r.010.fit\",\"skyflat_r.011.fit\",\"skyflat_r.012.fit\",\n",
    "                       \"skyflat_r.013.fit\",\"skyflat_r.014.fit\"])"
   ]
  },
  {
   "cell_type": "markdown",
   "metadata": {},
   "source": [
    "6. Repeat for the science frames, where this should only include the frames that you are using for science on your clusters.  These are highlighted in green in the log.  These should be called, e.g. \"sciencelist_< filtname>_< cluster name>\""
   ]
  },
  {
   "cell_type": "code",
   "execution_count": 5,
   "metadata": {},
   "outputs": [],
   "source": [
    "#this is a list of all the science images.  There may need to be more than one list\n",
    "#*************\n",
    "sciencelist_g_Markarian50 = np.array([\"s009.fit\",\"s010.fit\",\"s011.fit\",\"s012.fit\",\"s013.fit\",\"s014.fit\"])\n",
    "sciencelist_r_Markarian50 = np.array([\"s015.fit\",\"s016.fit\",\"s017.fit\",\"s018.fit\",\"s019.fit\",\"s020.fit\"])"
   ]
  },
  {
   "cell_type": "markdown",
   "metadata": {},
   "source": [
    "7. open ds9 and one after the other display the images in the lists above, which is fewer than the actual number of images you took in a night, and examine them to make sure that there is nothing wrong with them, e.g. satellite trails, very elongated stars.  Make a list that contains any bad images there.  *Ask me if you are unsure what a bad image is.*\n",
    "\n",
    "Then use the code below to trim the bad images from each of your lists."
   ]
  },
  {
   "cell_type": "code",
   "execution_count": 13,
   "metadata": {},
   "outputs": [],
   "source": [
    "#define a function that takes an array of image names and an array of bad images and \n",
    "#returns a list of images that were not in the bad list\n",
    "def imlist_clean(imlist, badlist):\n",
    "\n",
    "    #updated versions of your image list that excludes these bad images\n",
    "    #this intializes it\n",
    "    goodimlist = np.array([]) \n",
    "\n",
    "    #this loops through every element in badlist\n",
    "    for i in range(len(imlist)): \n",
    "    \n",
    "        #see if that element of imlist exists in the list of bad images.\n",
    "        #ibad is an array of indices of the array badlist that match the element of imlist\n",
    "        ibad = np.where(badlist == imlist[i]) \n",
    "\n",
    "        #this is just to reformat ibad, which is output by where as a 2D array, where the \n",
    "        #first element is the one we want\n",
    "        ibad = ibad[0]  \n",
    "\n",
    "        #this tests if there was a match with badlist.  If there was not, then append\n",
    "        #the good image names to the good image list\n",
    "        if ibad.size==0: \n",
    "            goodimlist = np.append(goodimlist,imlist[i]) \n",
    "\n",
    "    #return something from the routine\n",
    "    return(goodimlist)\n"
   ]
  },
  {
   "cell_type": "code",
   "execution_count": 14,
   "metadata": {},
   "outputs": [
    {
     "name": "stdout",
     "output_type": "stream",
     "text": [
      "biaslist_good =  ['b033.fit' 'b034.fit' 'b035.fit' 'b036.fit' 'b037.fit' 'b038.fit'\n",
      " 'b039.fit' 'b040.fit' 'b041.fit' 'b042.fit' 'b043.fit' 'b044.fit'\n",
      " 'b045.fit' 'b046.fit' 'b047.fit' 'b048.fit' 'b049.fit' 'b050.fit'\n",
      " 'b051.fit' 'b052.fit' 'b053.fit']\n"
     ]
    },
    {
     "name": "stderr",
     "output_type": "stream",
     "text": [
      "/tmp/ipykernel_20860/2024549829.py:14: FutureWarning: elementwise comparison failed; returning scalar instead, but in the future will perform elementwise comparison\n",
      "  ibad = np.where(badlist == imlist[i])\n"
     ]
    }
   ],
   "source": [
    "#a list of bad images\n",
    "#*************\n",
    "badlist = np.array([])\n",
    "\n",
    "#make a cleaned version of the biaslist\n",
    "biaslist_good = imlist_clean(biaslist,badlist)\n",
    "print(\"biaslist_good = \",biaslist_good)"
   ]
  },
  {
   "cell_type": "code",
   "execution_count": 20,
   "metadata": {},
   "outputs": [
    {
     "name": "stdout",
     "output_type": "stream",
     "text": [
      "darklist_good =  ['d001.fit' 'd002.fit' 'd003.fit' 'd004.fit' 'd005.fit' 'd006.fit'\n",
      " 'd007.fit' 'd008.fit' 'd009.fit' 'd010.fit' 'd011.fit']\n"
     ]
    },
    {
     "name": "stderr",
     "output_type": "stream",
     "text": [
      "/tmp/ipykernel_20860/2024549829.py:14: FutureWarning: elementwise comparison failed; returning scalar instead, but in the future will perform elementwise comparison\n",
      "  ibad = np.where(badlist == imlist[i])\n"
     ]
    }
   ],
   "source": [
    "#a list of bad images\n",
    "#*************\n",
    "badlist = np.array([])\n",
    "\n",
    "#make a cleaned version of the darklist\n",
    "darklist_good = imlist_clean(darklist_180s,badlist)\n",
    "print(\"darklist_good = \",darklist_good)"
   ]
  },
  {
   "cell_type": "code",
   "execution_count": 17,
   "metadata": {},
   "outputs": [
    {
     "name": "stdout",
     "output_type": "stream",
     "text": [
      "flatlist_g_good =  ['skyflat_g.001.fit' 'skyflat_g.002.fit' 'skyflat_g.003.fit'\n",
      " 'skyflat_g.004.fit' 'skyflat_g.005.fit' 'skyflat_g.006.fit'\n",
      " 'skyflat_g.007.fit']\n"
     ]
    },
    {
     "name": "stderr",
     "output_type": "stream",
     "text": [
      "/tmp/ipykernel_20860/2024549829.py:14: FutureWarning: elementwise comparison failed; returning scalar instead, but in the future will perform elementwise comparison\n",
      "  ibad = np.where(badlist == imlist[i])\n"
     ]
    }
   ],
   "source": [
    "#a list of bad images\n",
    "#*************\n",
    "badlist = np.array([])\n",
    "\n",
    "#make a cleaned version of the flatlist_g\n",
    "flatlist_g_good = imlist_clean(flatlist_g,badlist)\n",
    "print(\"flatlist_g_good = \",flatlist_g_good)"
   ]
  },
  {
   "cell_type": "code",
   "execution_count": 18,
   "metadata": {},
   "outputs": [
    {
     "name": "stdout",
     "output_type": "stream",
     "text": [
      "flatlist_r_good =  ['skyflat_r.001.fit' 'skyflat_r.002.fit' 'skyflat_r.003.fit'\n",
      " 'skyflat_r.004.fit' 'skyflat_r.005.fit' 'skyflat_r.006.fit'\n",
      " 'skyflat_r.007.fit' 'skyflat_r.008.fit' 'skyflat_r.009.fit'\n",
      " 'skyflat_r.010.fit' 'skyflat_r.011.fit' 'skyflat_r.012.fit'\n",
      " 'skyflat_r.013.fit' 'skyflat_r.014.fit']\n"
     ]
    },
    {
     "name": "stderr",
     "output_type": "stream",
     "text": [
      "/tmp/ipykernel_20860/2024549829.py:14: FutureWarning: elementwise comparison failed; returning scalar instead, but in the future will perform elementwise comparison\n",
      "  ibad = np.where(badlist == imlist[i])\n"
     ]
    }
   ],
   "source": [
    "#a list of bad images\n",
    "#*************\n",
    "badlist = np.array([])\n",
    "\n",
    "#make a cleaned version of the flatlist_r\n",
    "flatlist_r_good = imlist_clean(flatlist_r,badlist)\n",
    "print(\"flatlist_r_good = \",flatlist_r_good)"
   ]
  },
  {
   "cell_type": "markdown",
   "metadata": {},
   "source": [
    "<h4> Make a combined bias frame </h4>\n",
    "    \n",
    "We will be reducing our data using the \"ccdproc\" package of reduction routines contained in astropy.\n",
    "    \n",
    "You will first read in bias images and combine them using the \"Combiner\" task described at https://ccdproc.readthedocs.io/en/latest/image_combination.html\n",
    "\n",
    "Make sure to read the section on sigma-clipping, which describes how we generate masks for combining the images and how we eventually combine the images.  \n",
    "\n",
    "As a first step you will need to take the good lists of objects from above in each category and make a file for each class of objects, e.g. bias, dark, science_\\<band>, that contain all the corresponding file names, with one object per line.  You can name the lists what you'd like, e.g. biaslist, but you'll need to make sure that they are in the right places in the program later on.  They should all be put in your \n",
    "\n",
    "~/RFSLAB/USER_DPT/\\<KUID>/ASTR596/Data/2021-10-19/Files \n",
    "\n",
    "directory:\n",
    "1. biaslist: all of your good trimmed bias frames.  This will be used to make your master bias frame\n",
    "\n",
    "These will be used later\n",
    "\n",
    "2. darklist_\\<exptime>: all of your dark images of a given exposure time (exptime)\n",
    "2. flatlist_\\<band>: all of the trimmed flatfields corresponding to a given band.  Ignore this for now, but we will need it later.\n",
    "3. science_\\<band>_\\<target>: all of the science frames for each target in each band\n",
    "\n",
    "\n",
    "\n",
    "\n",
    "The readme docs that describe this ccdproc routines are given at: https://ccdproc.readthedocs.io/en/latest/reduction_toolbox.html\n",
    "\n",
    "Everywhere with a \\***** you will need to change the code"
   ]
  },
  {
   "cell_type": "code",
   "execution_count": 24,
   "metadata": {},
   "outputs": [],
   "source": [
    "#*******\n",
    "#You will need to change these to the paths to your Raw and Reduced Data\n",
    "rawpath = \"/home/y731z863/RFSLAB/USER_DPT/y731z863/Raw/\"\n",
    "redpath = \"/home/y731z863/RFSLAB/USER_DPT/y731z863/Reduced/\"\n",
    "filepath = \"/home/y731z863/RFSLAB/USER_DPT/y731z863/Files/\"\n",
    "\n",
    "biaslist = \"biaslist2.txt\"\n",
    "biaslistpath = filepath + biaslist\n",
    "\n",
    "\n",
    "#initialize list of bias frames\n",
    "bias_imlist = []\n",
    "#this way of opening the file ensures that it closes after the loop is done.\n",
    "with open(biaslistpath,'r') as fp:\n",
    "    #read first line\n",
    "    line = fp.readline()\n",
    "\n",
    "    #build the combine list of all images\n",
    "    #read every subsequent line\n",
    "    while line:\n",
    "        #this removes the trailing newline charactter and converts the output list to a scalar\n",
    "        imname = line.split()\n",
    "        imname = imname[0]\n",
    "        \n",
    "        #create the image name, including the path to the raw data\n",
    "        imstr = rawpath + imname\n",
    "        #read that into a CCDData object.  This allows you to specify a unit, which we indicate as \"adu\"\n",
    "        im = CCDData.read(imstr,unit = \"adu\")\n",
    "\n",
    "        #make a list of all the CCDData instances of each image\n",
    "        bias_imlist = bias_imlist + [im]\n",
    "\n",
    "        line = fp.readline()\n",
    "\n",
    "#Combiner list of all bias images\n",
    "bias_comb = Combiner(bias_imlist)\n",
    "\n",
    "#now create masks with sigma clipping algorithm\n",
    "#This creates a mask for each image that is the size of each image but which has 0 values\n",
    "#everywhere except those pixels in excess of low_thresh and high_thresh sigma from the median.\n",
    "#Those pixels get a value of 1\n",
    "#*************\n",
    "#given the number of pixels in your image how must you set high_thresh to avoid flagging more than\n",
    "#one pixel because of expected statistical variations.  Assume the noise is distributed like a Gaussian.\n",
    "bias_comb.sigma_clipping(low_thresh=3, high_thresh=3, func=np.ma.median)\n",
    "\n",
    "#Use these masks to combine the images.  This now becomes your master bias\n",
    "master_bias = bias_comb.average_combine()\n",
    "\n",
    "#now write out the master bias\n",
    "masterbiaspath = redpath + 'master_bias.fit'\n",
    "master_bias.write(masterbiaspath,overwrite=True)\n"
   ]
  },
  {
   "cell_type": "markdown",
   "metadata": {},
   "source": [
    "Open your master_bias.fit file with ds9.  In a markup cell below answer the following questions:\n",
    "1. what is the typical number of counts in this image determined by moving your cursor around the image?\n",
    "\n",
    "The typical number of counts in this image is about 70-80.\n",
    "\n",
    "2. How does this compare with some of the individual bias frames?\n",
    "\n",
    "They are very similar. Since it should be the average of each individual bias frame, and all the bias frames are similar, it makes sense that the combined bias is similar to others.\n",
    "\n",
    "3. Comment on what the combined bias frame looks like?\n",
    "\n",
    "The combined bias frame still have some white dashed lines shown up as each individual bias frame has. It looks basically identical to other individual bias frames. "
   ]
  }
 ],
 "metadata": {
  "kernelspec": {
   "display_name": "Python 3 (ipykernel)",
   "language": "python",
   "name": "python3"
  },
  "language_info": {
   "codemirror_mode": {
    "name": "ipython",
    "version": 3
   },
   "file_extension": ".py",
   "mimetype": "text/x-python",
   "name": "python",
   "nbconvert_exporter": "python",
   "pygments_lexer": "ipython3",
   "version": "3.9.7"
  }
 },
 "nbformat": 4,
 "nbformat_minor": 2
}
